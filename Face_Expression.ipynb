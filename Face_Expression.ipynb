{
 "cells": [
  {
   "cell_type": "code",
   "execution_count": 1,
   "metadata": {
    "colab": {
     "base_uri": "https://localhost:8080/",
     "height": 72
    },
    "colab_type": "code",
    "id": "t-W7w0nDxf48",
    "outputId": "065ab776-1e4b-4c33-c6d1-ed076041d440"
   },
   "outputs": [
    {
     "name": "stderr",
     "output_type": "stream",
     "text": [
      "/usr/local/lib/python3.6/dist-packages/statsmodels/tools/_testing.py:19: FutureWarning: pandas.util.testing is deprecated. Use the functions in the public API at pandas.testing instead.\n",
      "  import pandas.util.testing as tm\n"
     ]
    }
   ],
   "source": [
    "import cv2\n",
    "import pandas as pd\n",
    "import seaborn as sns\n",
    "import matplotlib.pyplot as plt\n",
    "import numpy as np\n",
    "import os\n",
    "import PIL\n",
    "from tensorflow.keras import layers\n",
    "import tensorflow as tf\n",
    "import pickle\n",
    "from tensorflow.python.keras import *\n",
    "from tensorflow.keras.preprocessing.image import ImageDataGenerator\n",
    "from tensorflow.keras import layers, optimizers\n",
    "from tensorflow.keras.applications import DenseNet121\n",
    "from tensorflow.keras.applications.resnet50 import ResNet50\n",
    "from tensorflow.keras.layers import *\n",
    "from tensorflow.keras.models import Model, load_model\n",
    "from tensorflow.keras.initializers import glorot_uniform\n",
    "from tensorflow.keras.utils import plot_model\n",
    "from tensorflow.keras.callbacks import ReduceLROnPlateau, EarlyStopping, ModelCheckpoint, LearningRateScheduler\n",
    "from IPython.display import display\n",
    "from tensorflow.keras import backend as K\n"
   ]
  },
  {
   "cell_type": "code",
   "execution_count": 2,
   "metadata": {
    "colab": {},
    "colab_type": "code",
    "id": "D15Dzdzpyroc"
   },
   "outputs": [],
   "source": [
    "faceEmotion_df= pd.read_csv(\"/content/drive/My Drive/Face Expression/fer2013.csv\")"
   ]
  },
  {
   "cell_type": "code",
   "execution_count": 3,
   "metadata": {
    "colab": {
     "base_uri": "https://localhost:8080/",
     "height": 406
    },
    "colab_type": "code",
    "id": "ksd8lFS8zDEy",
    "outputId": "5c73057f-ba30-495a-d867-876bcb8f7ba3"
   },
   "outputs": [
    {
     "data": {
      "text/html": [
       "<div>\n",
       "<style scoped>\n",
       "    .dataframe tbody tr th:only-of-type {\n",
       "        vertical-align: middle;\n",
       "    }\n",
       "\n",
       "    .dataframe tbody tr th {\n",
       "        vertical-align: top;\n",
       "    }\n",
       "\n",
       "    .dataframe thead th {\n",
       "        text-align: right;\n",
       "    }\n",
       "</style>\n",
       "<table border=\"1\" class=\"dataframe\">\n",
       "  <thead>\n",
       "    <tr style=\"text-align: right;\">\n",
       "      <th></th>\n",
       "      <th>emotion</th>\n",
       "      <th>pixels</th>\n",
       "      <th>Usage</th>\n",
       "    </tr>\n",
       "  </thead>\n",
       "  <tbody>\n",
       "    <tr>\n",
       "      <th>0</th>\n",
       "      <td>0</td>\n",
       "      <td>70 80 82 72 58 58 60 63 54 58 60 48 89 115 121...</td>\n",
       "      <td>Training</td>\n",
       "    </tr>\n",
       "    <tr>\n",
       "      <th>1</th>\n",
       "      <td>0</td>\n",
       "      <td>151 150 147 155 148 133 111 140 170 174 182 15...</td>\n",
       "      <td>Training</td>\n",
       "    </tr>\n",
       "    <tr>\n",
       "      <th>2</th>\n",
       "      <td>2</td>\n",
       "      <td>231 212 156 164 174 138 161 173 182 200 106 38...</td>\n",
       "      <td>Training</td>\n",
       "    </tr>\n",
       "    <tr>\n",
       "      <th>3</th>\n",
       "      <td>4</td>\n",
       "      <td>24 32 36 30 32 23 19 20 30 41 21 22 32 34 21 1...</td>\n",
       "      <td>Training</td>\n",
       "    </tr>\n",
       "    <tr>\n",
       "      <th>4</th>\n",
       "      <td>6</td>\n",
       "      <td>4 0 0 0 0 0 0 0 0 0 0 0 3 15 23 28 48 50 58 84...</td>\n",
       "      <td>Training</td>\n",
       "    </tr>\n",
       "    <tr>\n",
       "      <th>...</th>\n",
       "      <td>...</td>\n",
       "      <td>...</td>\n",
       "      <td>...</td>\n",
       "    </tr>\n",
       "    <tr>\n",
       "      <th>35882</th>\n",
       "      <td>6</td>\n",
       "      <td>50 36 17 22 23 29 33 39 34 37 37 37 39 43 48 5...</td>\n",
       "      <td>PrivateTest</td>\n",
       "    </tr>\n",
       "    <tr>\n",
       "      <th>35883</th>\n",
       "      <td>3</td>\n",
       "      <td>178 174 172 173 181 188 191 194 196 199 200 20...</td>\n",
       "      <td>PrivateTest</td>\n",
       "    </tr>\n",
       "    <tr>\n",
       "      <th>35884</th>\n",
       "      <td>0</td>\n",
       "      <td>17 17 16 23 28 22 19 17 25 26 20 24 31 19 27 9...</td>\n",
       "      <td>PrivateTest</td>\n",
       "    </tr>\n",
       "    <tr>\n",
       "      <th>35885</th>\n",
       "      <td>3</td>\n",
       "      <td>30 28 28 29 31 30 42 68 79 81 77 67 67 71 63 6...</td>\n",
       "      <td>PrivateTest</td>\n",
       "    </tr>\n",
       "    <tr>\n",
       "      <th>35886</th>\n",
       "      <td>2</td>\n",
       "      <td>19 13 14 12 13 16 21 33 50 57 71 84 97 108 122...</td>\n",
       "      <td>PrivateTest</td>\n",
       "    </tr>\n",
       "  </tbody>\n",
       "</table>\n",
       "<p>35887 rows × 3 columns</p>\n",
       "</div>"
      ],
      "text/plain": [
       "       emotion                                             pixels        Usage\n",
       "0            0  70 80 82 72 58 58 60 63 54 58 60 48 89 115 121...     Training\n",
       "1            0  151 150 147 155 148 133 111 140 170 174 182 15...     Training\n",
       "2            2  231 212 156 164 174 138 161 173 182 200 106 38...     Training\n",
       "3            4  24 32 36 30 32 23 19 20 30 41 21 22 32 34 21 1...     Training\n",
       "4            6  4 0 0 0 0 0 0 0 0 0 0 0 3 15 23 28 48 50 58 84...     Training\n",
       "...        ...                                                ...          ...\n",
       "35882        6  50 36 17 22 23 29 33 39 34 37 37 37 39 43 48 5...  PrivateTest\n",
       "35883        3  178 174 172 173 181 188 191 194 196 199 200 20...  PrivateTest\n",
       "35884        0  17 17 16 23 28 22 19 17 25 26 20 24 31 19 27 9...  PrivateTest\n",
       "35885        3  30 28 28 29 31 30 42 68 79 81 77 67 67 71 63 6...  PrivateTest\n",
       "35886        2  19 13 14 12 13 16 21 33 50 57 71 84 97 108 122...  PrivateTest\n",
       "\n",
       "[35887 rows x 3 columns]"
      ]
     },
     "execution_count": 3,
     "metadata": {
      "tags": []
     },
     "output_type": "execute_result"
    }
   ],
   "source": [
    "faceEmotion_df"
   ]
  },
  {
   "cell_type": "code",
   "execution_count": 4,
   "metadata": {
    "colab": {
     "base_uri": "https://localhost:8080/",
     "height": 34
    },
    "colab_type": "code",
    "id": "Rsq9MNTnzK4F",
    "outputId": "3df9afc0-ce3a-4dc3-ccf4-faf44f7211c5"
   },
   "outputs": [
    {
     "data": {
      "text/plain": [
       "2"
      ]
     },
     "execution_count": 4,
     "metadata": {
      "tags": []
     },
     "output_type": "execute_result"
    }
   ],
   "source": [
    "faceEmotion_df[\"emotion\"][2]"
   ]
  },
  {
   "cell_type": "code",
   "execution_count": 5,
   "metadata": {
    "colab": {
     "base_uri": "https://localhost:8080/",
     "height": 34
    },
    "colab_type": "code",
    "id": "-WtSRlZrzXEX",
    "outputId": "5d921d0b-ab2a-4ab8-bdab-78c003ee0448"
   },
   "outputs": [
    {
     "data": {
      "text/plain": [
       "str"
      ]
     },
     "execution_count": 5,
     "metadata": {
      "tags": []
     },
     "output_type": "execute_result"
    }
   ],
   "source": [
    "type(faceEmotion_df[\"pixels\"][2])"
   ]
  },
  {
   "cell_type": "code",
   "execution_count": 6,
   "metadata": {
    "colab": {},
    "colab_type": "code",
    "id": "bh9iR6_QzuRQ"
   },
   "outputs": [],
   "source": [
    "def stringToArray(x):\n",
    "  return np.array(x.split(' ')).reshape(48, 48, 1).astype('float32')"
   ]
  },
  {
   "cell_type": "code",
   "execution_count": 7,
   "metadata": {
    "colab": {},
    "colab_type": "code",
    "id": "p6d6y7_t1vsp"
   },
   "outputs": [],
   "source": [
    "faceEmotion_df[\"pixels\"] = faceEmotion_df[\"pixels\"].apply(lambda x: stringToArray(x))"
   ]
  },
  {
   "cell_type": "code",
   "execution_count": 8,
   "metadata": {
    "colab": {
     "base_uri": "https://localhost:8080/",
     "height": 34
    },
    "colab_type": "code",
    "id": "Sk_mJmpz17FF",
    "outputId": "70eaa906-b569-4bc1-c9b0-6f430a2aaba6"
   },
   "outputs": [
    {
     "data": {
      "text/plain": [
       "(48, 48, 1)"
      ]
     },
     "execution_count": 8,
     "metadata": {
      "tags": []
     },
     "output_type": "execute_result"
    }
   ],
   "source": [
    "\n",
    "faceEmotion_df[\"pixels\"][2].shape\n"
   ]
  },
  {
   "cell_type": "code",
   "execution_count": 9,
   "metadata": {
    "colab": {
     "base_uri": "https://localhost:8080/",
     "height": 87
    },
    "colab_type": "code",
    "id": "Edp-u8ZF2kqA",
    "outputId": "d0ae06d4-76a6-40b4-f0d5-ca9ef5a10b04"
   },
   "outputs": [
    {
     "data": {
      "text/plain": [
       "emotion    0\n",
       "pixels     0\n",
       "Usage      0\n",
       "dtype: int64"
      ]
     },
     "execution_count": 9,
     "metadata": {
      "tags": []
     },
     "output_type": "execute_result"
    }
   ],
   "source": [
    "faceEmotion_df.isnull().sum()"
   ]
  },
  {
   "cell_type": "code",
   "execution_count": 10,
   "metadata": {
    "colab": {},
    "colab_type": "code",
    "id": "smt-l7AO2paz"
   },
   "outputs": [],
   "source": [
    "label_to_text = {0: \"Anger\", 1:\"Disgust\", 2:\"Fear\",3:\"Happy\",4:\"Sad\",5:\"Surprise\",6:\"Neutral\"}"
   ]
  },
  {
   "cell_type": "markdown",
   "metadata": {
    "colab_type": "text",
    "id": "p2QtXFt-4P8W"
   },
   "source": [
    "# Visualize Data\n"
   ]
  },
  {
   "cell_type": "code",
   "execution_count": 11,
   "metadata": {
    "colab": {
     "base_uri": "https://localhost:8080/",
     "height": 284
    },
    "colab_type": "code",
    "id": "eQzFJhyF4UYU",
    "outputId": "c168f19f-7d02-4b1a-a795-88d12eb928bb"
   },
   "outputs": [
    {
     "data": {
      "text/plain": [
       "<matplotlib.image.AxesImage at 0x7f5280f10d30>"
      ]
     },
     "execution_count": 11,
     "metadata": {
      "tags": []
     },
     "output_type": "execute_result"
    },
    {
     "data": {
      "image/png": "[encoded data removed]",
      "text/plain": [
       "<Figure size 432x288 with 1 Axes>"
      ]
     },
     "metadata": {
      "needs_background": "light",
      "tags": []
     },
     "output_type": "display_data"
    }
   ],
   "source": [
    "plt.imshow(faceEmotion_df[\"pixels\"][0].squeeze(),cmap='gray')"
   ]
  },
  {
   "cell_type": "code",
   "execution_count": 12,
   "metadata": {
    "colab": {
     "base_uri": "https://localhost:8080/",
     "height": 1000
    },
    "colab_type": "code",
    "id": "stsoOJKE4fi_",
    "outputId": "e5f69db2-79d6-4543-db0c-5f47bca6b3d9"
   },
   "outputs": [
    {
     "data": {
      "image/png": "[encoded data removed]",
      "text/plain": [
       "<Figure size 432x288 with 1 Axes>"
      ]
     },
     "metadata": {
      "needs_background": "light",
      "tags": []
     },
     "output_type": "display_data"
    },
    {
     "data": {
      "image/png": "[encoded data removed]",
      "text/plain": [
       "<Figure size 432x288 with 1 Axes>"
      ]
     },
     "metadata": {
      "needs_background": "light",
      "tags": []
     },
     "output_type": "display_data"
    },
    {
     "data": {
      "image/png": "[encoded data removed]",
      "text/plain": [
       "<Figure size 432x288 with 1 Axes>"
      ]
     },
     "metadata": {
      "needs_background": "light",
      "tags": []
     },
     "output_type": "display_data"
    },
    {
     "data": {
      "image/png": "[encoded data removed]",
      "text/plain": [
       "<Figure size 432x288 with 1 Axes>"
      ]
     },
     "metadata": {
      "needs_background": "light",
      "tags": []
     },
     "output_type": "display_data"
    },
    {
     "data": {
      "image/png": "[encoded data removed]",
      "text/plain": [
       "<Figure size 432x288 with 1 Axes>"
      ]
     },
     "metadata": {
      "needs_background": "light",
      "tags": []
     },
     "output_type": "display_data"
    },
    {
     "data": {
      "image/png": "[encoded data removed]",
      "text/plain": [
       "<Figure size 432x288 with 1 Axes>"
      ]
     },
     "metadata": {
      "needs_background": "light",
      "tags": []
     },
     "output_type": "display_data"
    },
    {
     "data": {
      "image/png": "[encoded data removed]",
      "text/plain": [
       "<Figure size 432x288 with 1 Axes>"
      ]
     },
     "metadata": {
      "needs_background": "light",
      "tags": []
     },
     "output_type": "display_data"
    }
   ],
   "source": [
    "emotions = [0,1,2,3,4,5,6]\n",
    "\n",
    "for i in emotions:\n",
    "  data = faceEmotion_df[faceEmotion_df['emotion'] == i][:1]\n",
    "  img = data['pixels'].item()\n",
    "  img = img.reshape(48,48)\n",
    "  plt.figure()\n",
    "  plt.title(label_to_text[i])\n",
    "  plt.imshow(img, cmap= 'gray')"
   ]
  },
  {
   "cell_type": "code",
   "execution_count": 12,
   "metadata": {
    "colab": {},
    "colab_type": "code",
    "id": "UQlcB1-36PDC"
   },
   "outputs": [],
   "source": []
  },
  {
   "cell_type": "markdown",
   "metadata": {
    "colab_type": "text",
    "id": "p6n_ZzWS7VzH"
   },
   "source": [
    "# Dataset balanced?\n",
    "# Lets check it out using bar graph"
   ]
  },
  {
   "cell_type": "code",
   "execution_count": 13,
   "metadata": {
    "colab": {
     "base_uri": "https://localhost:8080/",
     "height": 624
    },
    "colab_type": "code",
    "id": "q4CwZvs_7maF",
    "outputId": "6da1e33a-e97f-4118-f9cd-30b53029af96"
   },
   "outputs": [
    {
     "data": {
      "text/plain": [
       "Text(0.5, 1.0, 'Number of Sample per expression')"
      ]
     },
     "execution_count": 13,
     "metadata": {
      "tags": []
     },
     "output_type": "execute_result"
    },
    {
     "data": {
      "image/png": "[encoded data removed]",
      "text/plain": [
       "<Figure size 720x720 with 1 Axes>"
      ]
     },
     "metadata": {
      "needs_background": "light",
      "tags": []
     },
     "output_type": "display_data"
    }
   ],
   "source": [
    "plt.figure(figsize=(10,10))\n",
    "\n",
    "sns.barplot(x= faceEmotion_df.emotion.value_counts().index, y= faceEmotion_df.emotion.value_counts())\n",
    "plt.title(\"Number of Sample per expression\")"
   ]
  },
  {
   "cell_type": "code",
   "execution_count": 14,
   "metadata": {
    "colab": {
     "base_uri": "https://localhost:8080/",
     "height": 34
    },
    "colab_type": "code",
    "id": "0rGvuenU8Eft",
    "outputId": "1d0f2710-d04e-4054-8f8e-2c428d9f9b11"
   },
   "outputs": [
    {
     "data": {
      "text/plain": [
       "(35887,)"
      ]
     },
     "execution_count": 14,
     "metadata": {
      "tags": []
     },
     "output_type": "execute_result"
    }
   ],
   "source": [
    "X= faceEmotion_df[\"pixels\"]\n",
    "X.shape"
   ]
  },
  {
   "cell_type": "code",
   "execution_count": 15,
   "metadata": {
    "colab": {
     "base_uri": "https://localhost:8080/",
     "height": 34
    },
    "colab_type": "code",
    "id": "xwvFCLHt9527",
    "outputId": "540630f1-15ce-4e2b-8d22-03440f722bc3"
   },
   "outputs": [
    {
     "data": {
      "text/plain": [
       "(35887, 48, 48, 1)"
      ]
     },
     "execution_count": 15,
     "metadata": {
      "tags": []
     },
     "output_type": "execute_result"
    }
   ],
   "source": [
    "X= faceEmotion_df[\"pixels\"]\n",
    "y=pd.get_dummies(faceEmotion_df['emotion']) #one hot\n",
    "X =np.stack(X,axis=0)\n",
    "X=X.reshape(len(X),48,48,1)\n",
    "X.shape"
   ]
  },
  {
   "cell_type": "code",
   "execution_count": 16,
   "metadata": {
    "colab": {
     "base_uri": "https://localhost:8080/",
     "height": 34
    },
    "colab_type": "code",
    "id": "zknb4NZZ-Pw5",
    "outputId": "0e8b1de1-aa57-4990-be8d-408db5a43f31"
   },
   "outputs": [
    {
     "data": {
      "text/plain": [
       "(35887, 7)"
      ]
     },
     "execution_count": 16,
     "metadata": {
      "tags": []
     },
     "output_type": "execute_result"
    }
   ],
   "source": [
    "y.shape"
   ]
  },
  {
   "cell_type": "code",
   "execution_count": 17,
   "metadata": {
    "colab": {
     "base_uri": "https://localhost:8080/",
     "height": 406
    },
    "colab_type": "code",
    "id": "sTy7wnQG-Xo8",
    "outputId": "20e99664-4553-4101-ba2e-15f80ec4b231"
   },
   "outputs": [
    {
     "data": {
      "text/html": [
       "<div>\n",
       "<style scoped>\n",
       "    .dataframe tbody tr th:only-of-type {\n",
       "        vertical-align: middle;\n",
       "    }\n",
       "\n",
       "    .dataframe tbody tr th {\n",
       "        vertical-align: top;\n",
       "    }\n",
       "\n",
       "    .dataframe thead th {\n",
       "        text-align: right;\n",
       "    }\n",
       "</style>\n",
       "<table border=\"1\" class=\"dataframe\">\n",
       "  <thead>\n",
       "    <tr style=\"text-align: right;\">\n",
       "      <th></th>\n",
       "      <th>0</th>\n",
       "      <th>1</th>\n",
       "      <th>2</th>\n",
       "      <th>3</th>\n",
       "      <th>4</th>\n",
       "      <th>5</th>\n",
       "      <th>6</th>\n",
       "    </tr>\n",
       "  </thead>\n",
       "  <tbody>\n",
       "    <tr>\n",
       "      <th>0</th>\n",
       "      <td>1</td>\n",
       "      <td>0</td>\n",
       "      <td>0</td>\n",
       "      <td>0</td>\n",
       "      <td>0</td>\n",
       "      <td>0</td>\n",
       "      <td>0</td>\n",
       "    </tr>\n",
       "    <tr>\n",
       "      <th>1</th>\n",
       "      <td>1</td>\n",
       "      <td>0</td>\n",
       "      <td>0</td>\n",
       "      <td>0</td>\n",
       "      <td>0</td>\n",
       "      <td>0</td>\n",
       "      <td>0</td>\n",
       "    </tr>\n",
       "    <tr>\n",
       "      <th>2</th>\n",
       "      <td>0</td>\n",
       "      <td>0</td>\n",
       "      <td>1</td>\n",
       "      <td>0</td>\n",
       "      <td>0</td>\n",
       "      <td>0</td>\n",
       "      <td>0</td>\n",
       "    </tr>\n",
       "    <tr>\n",
       "      <th>3</th>\n",
       "      <td>0</td>\n",
       "      <td>0</td>\n",
       "      <td>0</td>\n",
       "      <td>0</td>\n",
       "      <td>1</td>\n",
       "      <td>0</td>\n",
       "      <td>0</td>\n",
       "    </tr>\n",
       "    <tr>\n",
       "      <th>4</th>\n",
       "      <td>0</td>\n",
       "      <td>0</td>\n",
       "      <td>0</td>\n",
       "      <td>0</td>\n",
       "      <td>0</td>\n",
       "      <td>0</td>\n",
       "      <td>1</td>\n",
       "    </tr>\n",
       "    <tr>\n",
       "      <th>...</th>\n",
       "      <td>...</td>\n",
       "      <td>...</td>\n",
       "      <td>...</td>\n",
       "      <td>...</td>\n",
       "      <td>...</td>\n",
       "      <td>...</td>\n",
       "      <td>...</td>\n",
       "    </tr>\n",
       "    <tr>\n",
       "      <th>35882</th>\n",
       "      <td>0</td>\n",
       "      <td>0</td>\n",
       "      <td>0</td>\n",
       "      <td>0</td>\n",
       "      <td>0</td>\n",
       "      <td>0</td>\n",
       "      <td>1</td>\n",
       "    </tr>\n",
       "    <tr>\n",
       "      <th>35883</th>\n",
       "      <td>0</td>\n",
       "      <td>0</td>\n",
       "      <td>0</td>\n",
       "      <td>1</td>\n",
       "      <td>0</td>\n",
       "      <td>0</td>\n",
       "      <td>0</td>\n",
       "    </tr>\n",
       "    <tr>\n",
       "      <th>35884</th>\n",
       "      <td>1</td>\n",
       "      <td>0</td>\n",
       "      <td>0</td>\n",
       "      <td>0</td>\n",
       "      <td>0</td>\n",
       "      <td>0</td>\n",
       "      <td>0</td>\n",
       "    </tr>\n",
       "    <tr>\n",
       "      <th>35885</th>\n",
       "      <td>0</td>\n",
       "      <td>0</td>\n",
       "      <td>0</td>\n",
       "      <td>1</td>\n",
       "      <td>0</td>\n",
       "      <td>0</td>\n",
       "      <td>0</td>\n",
       "    </tr>\n",
       "    <tr>\n",
       "      <th>35886</th>\n",
       "      <td>0</td>\n",
       "      <td>0</td>\n",
       "      <td>1</td>\n",
       "      <td>0</td>\n",
       "      <td>0</td>\n",
       "      <td>0</td>\n",
       "      <td>0</td>\n",
       "    </tr>\n",
       "  </tbody>\n",
       "</table>\n",
       "<p>35887 rows × 7 columns</p>\n",
       "</div>"
      ],
      "text/plain": [
       "       0  1  2  3  4  5  6\n",
       "0      1  0  0  0  0  0  0\n",
       "1      1  0  0  0  0  0  0\n",
       "2      0  0  1  0  0  0  0\n",
       "3      0  0  0  0  1  0  0\n",
       "4      0  0  0  0  0  0  1\n",
       "...   .. .. .. .. .. .. ..\n",
       "35882  0  0  0  0  0  0  1\n",
       "35883  0  0  0  1  0  0  0\n",
       "35884  1  0  0  0  0  0  0\n",
       "35885  0  0  0  1  0  0  0\n",
       "35886  0  0  1  0  0  0  0\n",
       "\n",
       "[35887 rows x 7 columns]"
      ]
     },
     "execution_count": 17,
     "metadata": {
      "tags": []
     },
     "output_type": "execute_result"
    }
   ],
   "source": [
    "y[0:]"
   ]
  },
  {
   "cell_type": "code",
   "execution_count": 19,
   "metadata": {
    "colab": {},
    "colab_type": "code",
    "id": "8umxmZJO-aK1"
   },
   "outputs": [],
   "source": [
    "from sklearn.model_selection import train_test_split\n",
    "\n",
    "X_train, X_Test,y_train,y_test = train_test_split( X, y, test_size= 0.1,shuffle=True)\n",
    "X_val, X_Test, y_val, y_Test = train_test_split(X_Test,y_test,test_size=0.5,shuffle=True)"
   ]
  },
  {
   "cell_type": "code",
   "execution_count": 22,
   "metadata": {
    "colab": {
     "base_uri": "https://localhost:8080/",
     "height": 34
    },
    "colab_type": "code",
    "id": "uLiyWE8B_iL-",
    "outputId": "67eaaae5-b28d-4df4-f53c-b638a8a65e63"
   },
   "outputs": [
    {
     "data": {
      "text/plain": [
       "(1795, 48, 48, 1)"
      ]
     },
     "execution_count": 22,
     "metadata": {
      "tags": []
     },
     "output_type": "execute_result"
    }
   ],
   "source": [
    "X_Test.shape"
   ]
  },
  {
   "cell_type": "code",
   "execution_count": 28,
   "metadata": {
    "colab": {
     "base_uri": "https://localhost:8080/",
     "height": 1000
    },
    "colab_type": "code",
    "id": "Hki3C3a0_kkS",
    "outputId": "6fcf6258-b066-4d89-eb1f-8e6ceecb1d27"
   },
   "outputs": [
    {
     "data": {
      "text/plain": [
       "array([[[[1.7993080e-03],\n",
       "         [1.9223376e-03],\n",
       "         [1.9530950e-03],\n",
       "         ...,\n",
       "         [2.4452135e-03],\n",
       "         [2.7527874e-03],\n",
       "         [2.5990005e-03]],\n",
       "\n",
       "        [[1.9069589e-03],\n",
       "         [1.9223376e-03],\n",
       "         [1.9684739e-03],\n",
       "         ...,\n",
       "         [2.0761248e-03],\n",
       "         [1.6147635e-03],\n",
       "         [2.0761248e-03]],\n",
       "\n",
       "        [[1.9377163e-03],\n",
       "         [1.8915802e-03],\n",
       "         [1.9992313e-03],\n",
       "         ...,\n",
       "         [2.0915035e-03],\n",
       "         [1.6762784e-03],\n",
       "         [1.2918109e-03]],\n",
       "\n",
       "        ...,\n",
       "\n",
       "        [[1.7070358e-03],\n",
       "         [2.3068052e-03],\n",
       "         [2.2452904e-03],\n",
       "         ...,\n",
       "         [3.5524799e-03],\n",
       "         [3.4602077e-03],\n",
       "         [3.3833142e-03]],\n",
       "\n",
       "        [[9.8423695e-04],\n",
       "         [1.6608997e-03],\n",
       "         [2.3221839e-03],\n",
       "         ...,\n",
       "         [3.5678586e-03],\n",
       "         [3.4909651e-03],\n",
       "         [3.4448290e-03]],\n",
       "\n",
       "        [[1.1072665e-03],\n",
       "         [1.0149943e-03],\n",
       "         [1.5686274e-03],\n",
       "         ...,\n",
       "         [3.5832373e-03],\n",
       "         [3.5371012e-03],\n",
       "         [3.4909651e-03]]],\n",
       "\n",
       "\n",
       "       [[[1.1995387e-03],\n",
       "         [1.1841600e-03],\n",
       "         [8.9196465e-04],\n",
       "         ...,\n",
       "         [3.5524799e-03],\n",
       "         [3.3986929e-03],\n",
       "         [3.3986929e-03]],\n",
       "\n",
       "        [[1.9069589e-03],\n",
       "         [1.3840831e-03],\n",
       "         [7.0742023e-04],\n",
       "         ...,\n",
       "         [2.8296809e-03],\n",
       "         [3.5524799e-03],\n",
       "         [3.3833142e-03]],\n",
       "\n",
       "        [[3.9061899e-03],\n",
       "         [2.9065744e-03],\n",
       "         [5.0749717e-04],\n",
       "         ...,\n",
       "         [1.8300654e-03],\n",
       "         [3.6139947e-03],\n",
       "         [3.3679355e-03]],\n",
       "\n",
       "        ...,\n",
       "\n",
       "        [[1.2456748e-03],\n",
       "         [1.1841600e-03],\n",
       "         [2.0299887e-03],\n",
       "         ...,\n",
       "         [3.3525568e-03],\n",
       "         [3.4602077e-03],\n",
       "         [3.3833142e-03]],\n",
       "\n",
       "        [[1.2918109e-03],\n",
       "         [1.3994618e-03],\n",
       "         [1.2610535e-03],\n",
       "         ...,\n",
       "         [3.2449057e-03],\n",
       "         [3.5063438e-03],\n",
       "         [3.5063438e-03]],\n",
       "\n",
       "        [[1.3687044e-03],\n",
       "         [1.4609765e-03],\n",
       "         [1.4609765e-03],\n",
       "         ...,\n",
       "         [3.3525568e-03],\n",
       "         [3.6293734e-03],\n",
       "         [3.4909651e-03]]],\n",
       "\n",
       "\n",
       "       [[[3.9215689e-03],\n",
       "         [3.0142253e-03],\n",
       "         [9.2272204e-04],\n",
       "         ...,\n",
       "         [3.9215689e-03],\n",
       "         [3.9215689e-03],\n",
       "         [3.9215689e-03]],\n",
       "\n",
       "        [[3.8600538e-03],\n",
       "         [1.6762784e-03],\n",
       "         [9.3810074e-04],\n",
       "         ...,\n",
       "         [3.9215689e-03],\n",
       "         [3.9215689e-03],\n",
       "         [3.9215689e-03]],\n",
       "\n",
       "        [[2.7220300e-03],\n",
       "         [8.1507111e-04],\n",
       "         [8.9196465e-04],\n",
       "         ...,\n",
       "         [3.8908112e-03],\n",
       "         [3.9215689e-03],\n",
       "         [3.9215689e-03]],\n",
       "\n",
       "        ...,\n",
       "\n",
       "        [[3.9215689e-03],\n",
       "         [3.8908112e-03],\n",
       "         [3.9215689e-03],\n",
       "         ...,\n",
       "         [2.5374857e-03],\n",
       "         [2.4298348e-03],\n",
       "         [2.4144561e-03]],\n",
       "\n",
       "        [[3.9215689e-03],\n",
       "         [3.9061899e-03],\n",
       "         [3.9215689e-03],\n",
       "         ...,\n",
       "         [2.6451366e-03],\n",
       "         [2.4144561e-03],\n",
       "         [2.3683200e-03]],\n",
       "\n",
       "        [[3.9215689e-03],\n",
       "         [3.9061899e-03],\n",
       "         [3.8908112e-03],\n",
       "         ...,\n",
       "         [2.6605153e-03],\n",
       "         [2.4452135e-03],\n",
       "         [2.3375626e-03]]],\n",
       "\n",
       "\n",
       "       ...,\n",
       "\n",
       "\n",
       "       [[[2.4605922e-03],\n",
       "         [1.9069589e-03],\n",
       "         [1.0918878e-03],\n",
       "         ...,\n",
       "         [1.5378702e-05],\n",
       "         [2.7681663e-04],\n",
       "         [1.1995387e-03]],\n",
       "\n",
       "        [[1.4917339e-03],\n",
       "         [6.1514805e-04],\n",
       "         [3.0757405e-05],\n",
       "         ...,\n",
       "         [3.0757405e-05],\n",
       "         [0.0000000e+00],\n",
       "         [2.3068051e-04]],\n",
       "\n",
       "        [[7.6893506e-05],\n",
       "         [0.0000000e+00],\n",
       "         [1.5378702e-05],\n",
       "         ...,\n",
       "         [1.0765091e-04],\n",
       "         [1.8454441e-04],\n",
       "         [1.5378701e-04]],\n",
       "\n",
       "        ...,\n",
       "\n",
       "        [[0.0000000e+00],\n",
       "         [1.0149943e-03],\n",
       "         [1.7685506e-03],\n",
       "         ...,\n",
       "         [2.0607461e-03],\n",
       "         [2.3683200e-03],\n",
       "         [2.1530183e-03]],\n",
       "\n",
       "        [[0.0000000e+00],\n",
       "         [1.4763552e-03],\n",
       "         [1.2456748e-03],\n",
       "         ...,\n",
       "         [1.9377163e-03],\n",
       "         [2.0453674e-03],\n",
       "         [2.0299887e-03]],\n",
       "\n",
       "        [[1.6916571e-04],\n",
       "         [1.7531719e-03],\n",
       "         [7.6893502e-04],\n",
       "         ...,\n",
       "         [1.7685506e-03],\n",
       "         [1.8300654e-03],\n",
       "         [1.9377163e-03]]],\n",
       "\n",
       "\n",
       "       [[[9.2272204e-04],\n",
       "         [9.0734335e-04],\n",
       "         [8.9196465e-04],\n",
       "         ...,\n",
       "         [7.8431371e-04],\n",
       "         [7.9969241e-04],\n",
       "         [8.1507111e-04]],\n",
       "\n",
       "        [[8.7658595e-04],\n",
       "         [9.2272204e-04],\n",
       "         [8.7658595e-04],\n",
       "         ...,\n",
       "         [8.1507111e-04],\n",
       "         [8.1507111e-04],\n",
       "         [7.9969241e-04]],\n",
       "\n",
       "        [[8.6120726e-04],\n",
       "         [8.7658595e-04],\n",
       "         [8.7658595e-04],\n",
       "         ...,\n",
       "         [7.8431371e-04],\n",
       "         [7.9969241e-04],\n",
       "         [7.9969241e-04]],\n",
       "\n",
       "        ...,\n",
       "\n",
       "        [[1.9377163e-03],\n",
       "         [1.6762784e-03],\n",
       "         [1.7224145e-03],\n",
       "         ...,\n",
       "         [7.3817762e-04],\n",
       "         [6.4590544e-04],\n",
       "         [6.3052675e-04]],\n",
       "\n",
       "        [[1.8608228e-03],\n",
       "         [1.7839293e-03],\n",
       "         [1.8454441e-03],\n",
       "         ...,\n",
       "         [7.8431371e-04],\n",
       "         [6.9204153e-04],\n",
       "         [6.6128414e-04]],\n",
       "\n",
       "        [[1.8146867e-03],\n",
       "         [1.8146867e-03],\n",
       "         [1.7839293e-03],\n",
       "         ...,\n",
       "         [7.8431371e-04],\n",
       "         [7.2279893e-04],\n",
       "         [6.4590544e-04]]],\n",
       "\n",
       "\n",
       "       [[[3.3833142e-03],\n",
       "         [3.2602844e-03],\n",
       "         [3.4909651e-03],\n",
       "         ...,\n",
       "         [2.3068051e-04],\n",
       "         [2.7681663e-04],\n",
       "         [4.6136102e-04]],\n",
       "\n",
       "        [[3.3064208e-03],\n",
       "         [3.3217994e-03],\n",
       "         [3.5217225e-03],\n",
       "         ...,\n",
       "         [1.9992310e-04],\n",
       "         [2.4605924e-04],\n",
       "         [3.5371011e-04]],\n",
       "\n",
       "        [[3.2449057e-03],\n",
       "         [3.3525568e-03],\n",
       "         [3.5371012e-03],\n",
       "         ...,\n",
       "         [1.9992310e-04],\n",
       "         [1.8454441e-04],\n",
       "         [2.3068051e-04]],\n",
       "\n",
       "        ...,\n",
       "\n",
       "        [[3.4755864e-03],\n",
       "         [3.4448290e-03],\n",
       "         [3.4140716e-03],\n",
       "         ...,\n",
       "         [2.9834679e-03],\n",
       "         [3.3986929e-03],\n",
       "         [3.5986160e-03]],\n",
       "\n",
       "        [[3.5524799e-03],\n",
       "         [3.5063438e-03],\n",
       "         [3.4294503e-03],\n",
       "         ...,\n",
       "         [3.1833909e-03],\n",
       "         [3.4755864e-03],\n",
       "         [3.6447521e-03]],\n",
       "\n",
       "        [[3.6293734e-03],\n",
       "         [3.5678586e-03],\n",
       "         [3.5371012e-03],\n",
       "         ...,\n",
       "         [3.6447521e-03],\n",
       "         [3.6601308e-03],\n",
       "         [3.6755095e-03]]]], dtype=float32)"
      ]
     },
     "execution_count": 28,
     "metadata": {
      "tags": []
     },
     "output_type": "execute_result"
    }
   ],
   "source": [
    "\n",
    "X_train = X_train/255\n",
    "X_val   = X_val /255\n",
    "X_Test  = X_Test/255\n"
   ]
  },
  {
   "cell_type": "code",
   "execution_count": 26,
   "metadata": {
    "colab": {},
    "colab_type": "code",
    "id": "_nB5fqcg_txh"
   },
   "outputs": [],
   "source": [
    "train_datagen = ImageDataGenerator(\n",
    "                                    width_shift_range=0.1,\n",
    "                                    height_shift_range=0.1,\n",
    "                                    shear_range=0.1,\n",
    "                                    zoom_range=0.1,\n",
    "                                    fill_mode = \"nearest\",\n",
    "                                    horizontal_flip =True,\n",
    "                                   )"
   ]
  },
  {
   "cell_type": "markdown",
   "metadata": {
    "colab_type": "text",
    "id": "C64Od6NGFLbW"
   },
   "source": [
    "# Lets build a RESNET"
   ]
  },
  {
   "cell_type": "code",
   "execution_count": 58,
   "metadata": {
    "colab": {},
    "colab_type": "code",
    "id": "zemfgxwwANjN"
   },
   "outputs": [],
   "source": [
    "def res_block(X, filter, stage):\n",
    "  X_copy =X\n",
    "  f1,f2,f3 = filter\n",
    "\n",
    "  X = Conv2D(f1,(1,1), strides=(1,1),name = \"res_\"+str(stage)+\"_conv_a\")(X)\n",
    "  X= MaxPool2D((2,2))(X)\n",
    "  X = BatchNormalization(axis=3, name =\"bn_\"+str(stage)+\"_conv_a\")(X)\n",
    "  X = Activation('relu')(X)\n",
    "\n",
    "  X = Conv2D(f1,(3,3), strides=(1,1),padding=\"same\",name = \"res_\"+str(stage)+\"_conv_b\")(X)\n",
    "  X = BatchNormalization(axis=3, name =\"bn_\"+str(stage)+\"_conv_b\")(X)\n",
    "  X = Activation('relu')(X)\n",
    "\n",
    "\n",
    "  X = Conv2D(f3,kernel_size=(1,1), strides = (1,1), name ='res_'+str(stage)+'_conv_c')(X)\n",
    "  X =BatchNormalization(axis=3, name='bn_'+str(stage)+'_conv_c')(X)\n",
    "\n",
    "  #now lets make X_copy and X same size so that we can add them\n",
    "  X_copy = Conv2D(f3, kernel_size = (1,1), strides =(1,1),name ='res_'+str(stage)+'_conv_copy')(X_copy)\n",
    "  X_copy = MaxPool2D((2,2))(X_copy)\n",
    "  X_copy = BatchNormalization(axis =3, name = 'bn_'+str(stage)+'_conv_copy')(X_copy)\n",
    "\n",
    "  X = Add()([X,X_copy])\n",
    "  X=Activation('relu')(X)\n",
    "\n",
    "  X_copy =X\n",
    "\n",
    "  X = Conv2D(f1, (1,1), strides=(1,1),name=\"res_\"+str(stage)+\"_identity_1_a\")(X)\n",
    "  X = BatchNormalization(axis =3, name =\"bn_\"+str(stage)+'_identity_1_a')(X)\n",
    "  X = Activation(\"relu\")(X)\n",
    "\n",
    "  \n",
    "  X = Conv2D(f2, (3,3), strides=(1,1),padding=\"same\",name=\"res_\"+str(stage)+\"_identity_1_b\")(X)\n",
    "  X = BatchNormalization(axis =3, name =\"bn_\"+str(stage)+'_identity_1_b')(X)\n",
    "  X = Activation(\"relu\")(X)\n",
    "\n",
    "  \n",
    "  X = Conv2D(f3, (1,1), strides=(1,1),name=\"res_\"+str(stage)+\"_identity_1_c\")(X)\n",
    "  X = BatchNormalization(axis =3, name =\"bn_\"+str(stage)+'_identity_1_c')(X)\n",
    "\n",
    "  X = Add()([X,X_copy])\n",
    "  X=Activation(\"relu\")(X)\n",
    "\n",
    "  X_copy =X\n",
    "\n",
    "\n",
    "  X = Conv2D(f1, (1,1), strides=(1,1),name=\"res_\"+str(stage)+\"_identity_2_a\")(X)\n",
    "  X = BatchNormalization(axis =3, name =\"bn_\"+str(stage)+'_identity_2_a')(X)\n",
    "  X = Activation(\"relu\")(X)\n",
    "\n",
    "\n",
    "  X = Conv2D(f2, (3,3), strides=(1,1),padding=\"same\",name=\"res_\"+str(stage)+\"_identity_2_b\")(X)\n",
    "  X = BatchNormalization(axis =3, name =\"bn_\"+str(stage)+'_identity_2_b')(X)\n",
    "  X = Activation(\"relu\")(X)\n",
    "\n",
    "\n",
    "  X = Conv2D(f3, (1,1), strides=(1,1),name=\"res_\"+str(stage)+\"_identity_2_c\")(X)\n",
    "  X = BatchNormalization(axis =3, name =\"bn_\"+str(stage)+'_identity_2_c')(X)\n",
    "\n",
    "\n",
    "  X = Add()([X,X_copy])\n",
    "  X = Activation('relu')(X)\n",
    "\n",
    "  return X\n",
    "\n",
    "\n",
    "\n"
   ]
  },
  {
   "cell_type": "code",
   "execution_count": 59,
   "metadata": {
    "colab": {
     "base_uri": "https://localhost:8080/",
     "height": 1000
    },
    "colab_type": "code",
    "id": "AK-I8L6AJdmI",
    "outputId": "7e09cd57-8eb2-4784-f994-a536e96d970e"
   },
   "outputs": [
    {
     "name": "stdout",
     "output_type": "stream",
     "text": [
      "Model: \"Resnet18\"\n",
      "__________________________________________________________________________________________________\n",
      "Layer (type)                    Output Shape         Param #     Connected to                     \n",
      "==================================================================================================\n",
      "input_19 (InputLayer)           [(None, 48, 48, 1)]  0                                            \n",
      "__________________________________________________________________________________________________\n",
      "zero_padding2d_18 (ZeroPadding2 (None, 54, 54, 1)    0           input_19[0][0]                   \n",
      "__________________________________________________________________________________________________\n",
      "conv1 (Conv2D)                  (None, 24, 24, 64)   3200        zero_padding2d_18[0][0]          \n",
      "__________________________________________________________________________________________________\n",
      "bn_conv1 (BatchNormalization)   (None, 24, 24, 64)   256         conv1[0][0]                      \n",
      "__________________________________________________________________________________________________\n",
      "activation_281 (Activation)     (None, 24, 24, 64)   0           bn_conv1[0][0]                   \n",
      "__________________________________________________________________________________________________\n",
      "max_pooling2d_89 (MaxPooling2D) (None, 11, 11, 64)   0           activation_281[0][0]             \n",
      "__________________________________________________________________________________________________\n",
      "res_2_conv_a (Conv2D)           (None, 11, 11, 64)   4160        max_pooling2d_89[0][0]           \n",
      "__________________________________________________________________________________________________\n",
      "max_pooling2d_90 (MaxPooling2D) (None, 5, 5, 64)     0           res_2_conv_a[0][0]               \n",
      "__________________________________________________________________________________________________\n",
      "bn_2_conv_a (BatchNormalization (None, 5, 5, 64)     256         max_pooling2d_90[0][0]           \n",
      "__________________________________________________________________________________________________\n",
      "activation_282 (Activation)     (None, 5, 5, 64)     0           bn_2_conv_a[0][0]                \n",
      "__________________________________________________________________________________________________\n",
      "res_2_conv_b (Conv2D)           (None, 5, 5, 64)     36928       activation_282[0][0]             \n",
      "__________________________________________________________________________________________________\n",
      "bn_2_conv_b (BatchNormalization (None, 5, 5, 64)     256         res_2_conv_b[0][0]               \n",
      "__________________________________________________________________________________________________\n",
      "activation_283 (Activation)     (None, 5, 5, 64)     0           bn_2_conv_b[0][0]                \n",
      "__________________________________________________________________________________________________\n",
      "res_2_conv_copy (Conv2D)        (None, 11, 11, 256)  16640       max_pooling2d_89[0][0]           \n",
      "__________________________________________________________________________________________________\n",
      "res_2_conv_c (Conv2D)           (None, 5, 5, 256)    16640       activation_283[0][0]             \n",
      "__________________________________________________________________________________________________\n",
      "max_pooling2d_91 (MaxPooling2D) (None, 5, 5, 256)    0           res_2_conv_copy[0][0]            \n",
      "__________________________________________________________________________________________________\n",
      "bn_2_conv_c (BatchNormalization (None, 5, 5, 256)    1024        res_2_conv_c[0][0]               \n",
      "__________________________________________________________________________________________________\n",
      "bn_2_conv_copy (BatchNormalizat (None, 5, 5, 256)    1024        max_pooling2d_91[0][0]           \n",
      "__________________________________________________________________________________________________\n",
      "add_86 (Add)                    (None, 5, 5, 256)    0           bn_2_conv_c[0][0]                \n",
      "                                                                 bn_2_conv_copy[0][0]             \n",
      "__________________________________________________________________________________________________\n",
      "activation_284 (Activation)     (None, 5, 5, 256)    0           add_86[0][0]                     \n",
      "__________________________________________________________________________________________________\n",
      "res_2_identity_1_a (Conv2D)     (None, 5, 5, 64)     16448       activation_284[0][0]             \n",
      "__________________________________________________________________________________________________\n",
      "bn_2_identity_1_a (BatchNormali (None, 5, 5, 64)     256         res_2_identity_1_a[0][0]         \n",
      "__________________________________________________________________________________________________\n",
      "activation_285 (Activation)     (None, 5, 5, 64)     0           bn_2_identity_1_a[0][0]          \n",
      "__________________________________________________________________________________________________\n",
      "res_2_identity_1_b (Conv2D)     (None, 5, 5, 64)     36928       activation_285[0][0]             \n",
      "__________________________________________________________________________________________________\n",
      "bn_2_identity_1_b (BatchNormali (None, 5, 5, 64)     256         res_2_identity_1_b[0][0]         \n",
      "__________________________________________________________________________________________________\n",
      "activation_286 (Activation)     (None, 5, 5, 64)     0           bn_2_identity_1_b[0][0]          \n",
      "__________________________________________________________________________________________________\n",
      "res_2_identity_1_c (Conv2D)     (None, 5, 5, 256)    16640       activation_286[0][0]             \n",
      "__________________________________________________________________________________________________\n",
      "bn_2_identity_1_c (BatchNormali (None, 5, 5, 256)    1024        res_2_identity_1_c[0][0]         \n",
      "__________________________________________________________________________________________________\n",
      "add_87 (Add)                    (None, 5, 5, 256)    0           bn_2_identity_1_c[0][0]          \n",
      "                                                                 activation_284[0][0]             \n",
      "__________________________________________________________________________________________________\n",
      "activation_287 (Activation)     (None, 5, 5, 256)    0           add_87[0][0]                     \n",
      "__________________________________________________________________________________________________\n",
      "res_2_identity_2_a (Conv2D)     (None, 5, 5, 64)     16448       activation_287[0][0]             \n",
      "__________________________________________________________________________________________________\n",
      "bn_2_identity_2_a (BatchNormali (None, 5, 5, 64)     256         res_2_identity_2_a[0][0]         \n",
      "__________________________________________________________________________________________________\n",
      "activation_288 (Activation)     (None, 5, 5, 64)     0           bn_2_identity_2_a[0][0]          \n",
      "__________________________________________________________________________________________________\n",
      "res_2_identity_2_b (Conv2D)     (None, 5, 5, 64)     36928       activation_288[0][0]             \n",
      "__________________________________________________________________________________________________\n",
      "bn_2_identity_2_b (BatchNormali (None, 5, 5, 64)     256         res_2_identity_2_b[0][0]         \n",
      "__________________________________________________________________________________________________\n",
      "activation_289 (Activation)     (None, 5, 5, 64)     0           bn_2_identity_2_b[0][0]          \n",
      "__________________________________________________________________________________________________\n",
      "res_2_identity_2_c (Conv2D)     (None, 5, 5, 256)    16640       activation_289[0][0]             \n",
      "__________________________________________________________________________________________________\n",
      "bn_2_identity_2_c (BatchNormali (None, 5, 5, 256)    1024        res_2_identity_2_c[0][0]         \n",
      "__________________________________________________________________________________________________\n",
      "add_88 (Add)                    (None, 5, 5, 256)    0           bn_2_identity_2_c[0][0]          \n",
      "                                                                 activation_287[0][0]             \n",
      "__________________________________________________________________________________________________\n",
      "activation_290 (Activation)     (None, 5, 5, 256)    0           add_88[0][0]                     \n",
      "__________________________________________________________________________________________________\n",
      "res_3_conv_a (Conv2D)           (None, 5, 5, 128)    32896       activation_290[0][0]             \n",
      "__________________________________________________________________________________________________\n",
      "max_pooling2d_92 (MaxPooling2D) (None, 2, 2, 128)    0           res_3_conv_a[0][0]               \n",
      "__________________________________________________________________________________________________\n",
      "bn_3_conv_a (BatchNormalization (None, 2, 2, 128)    512         max_pooling2d_92[0][0]           \n",
      "__________________________________________________________________________________________________\n",
      "activation_291 (Activation)     (None, 2, 2, 128)    0           bn_3_conv_a[0][0]                \n",
      "__________________________________________________________________________________________________\n",
      "res_3_conv_b (Conv2D)           (None, 2, 2, 128)    147584      activation_291[0][0]             \n",
      "__________________________________________________________________________________________________\n",
      "bn_3_conv_b (BatchNormalization (None, 2, 2, 128)    512         res_3_conv_b[0][0]               \n",
      "__________________________________________________________________________________________________\n",
      "activation_292 (Activation)     (None, 2, 2, 128)    0           bn_3_conv_b[0][0]                \n",
      "__________________________________________________________________________________________________\n",
      "res_3_conv_copy (Conv2D)        (None, 5, 5, 512)    131584      activation_290[0][0]             \n",
      "__________________________________________________________________________________________________\n",
      "res_3_conv_c (Conv2D)           (None, 2, 2, 512)    66048       activation_292[0][0]             \n",
      "__________________________________________________________________________________________________\n",
      "max_pooling2d_93 (MaxPooling2D) (None, 2, 2, 512)    0           res_3_conv_copy[0][0]            \n",
      "__________________________________________________________________________________________________\n",
      "bn_3_conv_c (BatchNormalization (None, 2, 2, 512)    2048        res_3_conv_c[0][0]               \n",
      "__________________________________________________________________________________________________\n",
      "bn_3_conv_copy (BatchNormalizat (None, 2, 2, 512)    2048        max_pooling2d_93[0][0]           \n",
      "__________________________________________________________________________________________________\n",
      "add_89 (Add)                    (None, 2, 2, 512)    0           bn_3_conv_c[0][0]                \n",
      "                                                                 bn_3_conv_copy[0][0]             \n",
      "__________________________________________________________________________________________________\n",
      "activation_293 (Activation)     (None, 2, 2, 512)    0           add_89[0][0]                     \n",
      "__________________________________________________________________________________________________\n",
      "res_3_identity_1_a (Conv2D)     (None, 2, 2, 128)    65664       activation_293[0][0]             \n",
      "__________________________________________________________________________________________________\n",
      "bn_3_identity_1_a (BatchNormali (None, 2, 2, 128)    512         res_3_identity_1_a[0][0]         \n",
      "__________________________________________________________________________________________________\n",
      "activation_294 (Activation)     (None, 2, 2, 128)    0           bn_3_identity_1_a[0][0]          \n",
      "__________________________________________________________________________________________________\n",
      "res_3_identity_1_b (Conv2D)     (None, 2, 2, 128)    147584      activation_294[0][0]             \n",
      "__________________________________________________________________________________________________\n",
      "bn_3_identity_1_b (BatchNormali (None, 2, 2, 128)    512         res_3_identity_1_b[0][0]         \n",
      "__________________________________________________________________________________________________\n",
      "activation_295 (Activation)     (None, 2, 2, 128)    0           bn_3_identity_1_b[0][0]          \n",
      "__________________________________________________________________________________________________\n",
      "res_3_identity_1_c (Conv2D)     (None, 2, 2, 512)    66048       activation_295[0][0]             \n",
      "__________________________________________________________________________________________________\n",
      "bn_3_identity_1_c (BatchNormali (None, 2, 2, 512)    2048        res_3_identity_1_c[0][0]         \n",
      "__________________________________________________________________________________________________\n",
      "add_90 (Add)                    (None, 2, 2, 512)    0           bn_3_identity_1_c[0][0]          \n",
      "                                                                 activation_293[0][0]             \n",
      "__________________________________________________________________________________________________\n",
      "activation_296 (Activation)     (None, 2, 2, 512)    0           add_90[0][0]                     \n",
      "__________________________________________________________________________________________________\n",
      "res_3_identity_2_a (Conv2D)     (None, 2, 2, 128)    65664       activation_296[0][0]             \n",
      "__________________________________________________________________________________________________\n",
      "bn_3_identity_2_a (BatchNormali (None, 2, 2, 128)    512         res_3_identity_2_a[0][0]         \n",
      "__________________________________________________________________________________________________\n",
      "activation_297 (Activation)     (None, 2, 2, 128)    0           bn_3_identity_2_a[0][0]          \n",
      "__________________________________________________________________________________________________\n",
      "res_3_identity_2_b (Conv2D)     (None, 2, 2, 128)    147584      activation_297[0][0]             \n",
      "__________________________________________________________________________________________________\n",
      "bn_3_identity_2_b (BatchNormali (None, 2, 2, 128)    512         res_3_identity_2_b[0][0]         \n",
      "__________________________________________________________________________________________________\n",
      "activation_298 (Activation)     (None, 2, 2, 128)    0           bn_3_identity_2_b[0][0]          \n",
      "__________________________________________________________________________________________________\n",
      "res_3_identity_2_c (Conv2D)     (None, 2, 2, 512)    66048       activation_298[0][0]             \n",
      "__________________________________________________________________________________________________\n",
      "bn_3_identity_2_c (BatchNormali (None, 2, 2, 512)    2048        res_3_identity_2_c[0][0]         \n",
      "__________________________________________________________________________________________________\n",
      "add_91 (Add)                    (None, 2, 2, 512)    0           bn_3_identity_2_c[0][0]          \n",
      "                                                                 activation_296[0][0]             \n",
      "__________________________________________________________________________________________________\n",
      "activation_299 (Activation)     (None, 2, 2, 512)    0           add_91[0][0]                     \n",
      "__________________________________________________________________________________________________\n",
      "res_4_conv_a (Conv2D)           (None, 2, 2, 256)    131328      activation_299[0][0]             \n",
      "__________________________________________________________________________________________________\n",
      "max_pooling2d_94 (MaxPooling2D) (None, 1, 1, 256)    0           res_4_conv_a[0][0]               \n",
      "__________________________________________________________________________________________________\n",
      "bn_4_conv_a (BatchNormalization (None, 1, 1, 256)    1024        max_pooling2d_94[0][0]           \n",
      "__________________________________________________________________________________________________\n",
      "activation_300 (Activation)     (None, 1, 1, 256)    0           bn_4_conv_a[0][0]                \n",
      "__________________________________________________________________________________________________\n",
      "res_4_conv_b (Conv2D)           (None, 1, 1, 256)    590080      activation_300[0][0]             \n",
      "__________________________________________________________________________________________________\n",
      "bn_4_conv_b (BatchNormalization (None, 1, 1, 256)    1024        res_4_conv_b[0][0]               \n",
      "__________________________________________________________________________________________________\n",
      "activation_301 (Activation)     (None, 1, 1, 256)    0           bn_4_conv_b[0][0]                \n",
      "__________________________________________________________________________________________________\n",
      "res_4_conv_copy (Conv2D)        (None, 2, 2, 1024)   525312      activation_299[0][0]             \n",
      "__________________________________________________________________________________________________\n",
      "res_4_conv_c (Conv2D)           (None, 1, 1, 1024)   263168      activation_301[0][0]             \n",
      "__________________________________________________________________________________________________\n",
      "max_pooling2d_95 (MaxPooling2D) (None, 1, 1, 1024)   0           res_4_conv_copy[0][0]            \n",
      "__________________________________________________________________________________________________\n",
      "bn_4_conv_c (BatchNormalization (None, 1, 1, 1024)   4096        res_4_conv_c[0][0]               \n",
      "__________________________________________________________________________________________________\n",
      "bn_4_conv_copy (BatchNormalizat (None, 1, 1, 1024)   4096        max_pooling2d_95[0][0]           \n",
      "__________________________________________________________________________________________________\n",
      "add_92 (Add)                    (None, 1, 1, 1024)   0           bn_4_conv_c[0][0]                \n",
      "                                                                 bn_4_conv_copy[0][0]             \n",
      "__________________________________________________________________________________________________\n",
      "activation_302 (Activation)     (None, 1, 1, 1024)   0           add_92[0][0]                     \n",
      "__________________________________________________________________________________________________\n",
      "res_4_identity_1_a (Conv2D)     (None, 1, 1, 256)    262400      activation_302[0][0]             \n",
      "__________________________________________________________________________________________________\n",
      "bn_4_identity_1_a (BatchNormali (None, 1, 1, 256)    1024        res_4_identity_1_a[0][0]         \n",
      "__________________________________________________________________________________________________\n",
      "activation_303 (Activation)     (None, 1, 1, 256)    0           bn_4_identity_1_a[0][0]          \n",
      "__________________________________________________________________________________________________\n",
      "res_4_identity_1_b (Conv2D)     (None, 1, 1, 256)    590080      activation_303[0][0]             \n",
      "__________________________________________________________________________________________________\n",
      "bn_4_identity_1_b (BatchNormali (None, 1, 1, 256)    1024        res_4_identity_1_b[0][0]         \n",
      "__________________________________________________________________________________________________\n",
      "activation_304 (Activation)     (None, 1, 1, 256)    0           bn_4_identity_1_b[0][0]          \n",
      "__________________________________________________________________________________________________\n",
      "res_4_identity_1_c (Conv2D)     (None, 1, 1, 1024)   263168      activation_304[0][0]             \n",
      "__________________________________________________________________________________________________\n",
      "bn_4_identity_1_c (BatchNormali (None, 1, 1, 1024)   4096        res_4_identity_1_c[0][0]         \n",
      "__________________________________________________________________________________________________\n",
      "add_93 (Add)                    (None, 1, 1, 1024)   0           bn_4_identity_1_c[0][0]          \n",
      "                                                                 activation_302[0][0]             \n",
      "__________________________________________________________________________________________________\n",
      "activation_305 (Activation)     (None, 1, 1, 1024)   0           add_93[0][0]                     \n",
      "__________________________________________________________________________________________________\n",
      "res_4_identity_2_a (Conv2D)     (None, 1, 1, 256)    262400      activation_305[0][0]             \n",
      "__________________________________________________________________________________________________\n",
      "bn_4_identity_2_a (BatchNormali (None, 1, 1, 256)    1024        res_4_identity_2_a[0][0]         \n",
      "__________________________________________________________________________________________________\n",
      "activation_306 (Activation)     (None, 1, 1, 256)    0           bn_4_identity_2_a[0][0]          \n",
      "__________________________________________________________________________________________________\n",
      "res_4_identity_2_b (Conv2D)     (None, 1, 1, 256)    590080      activation_306[0][0]             \n",
      "__________________________________________________________________________________________________\n",
      "bn_4_identity_2_b (BatchNormali (None, 1, 1, 256)    1024        res_4_identity_2_b[0][0]         \n",
      "__________________________________________________________________________________________________\n",
      "activation_307 (Activation)     (None, 1, 1, 256)    0           bn_4_identity_2_b[0][0]          \n",
      "__________________________________________________________________________________________________\n",
      "res_4_identity_2_c (Conv2D)     (None, 1, 1, 1024)   263168      activation_307[0][0]             \n",
      "__________________________________________________________________________________________________\n",
      "bn_4_identity_2_c (BatchNormali (None, 1, 1, 1024)   4096        res_4_identity_2_c[0][0]         \n",
      "__________________________________________________________________________________________________\n",
      "add_94 (Add)                    (None, 1, 1, 1024)   0           bn_4_identity_2_c[0][0]          \n",
      "                                                                 activation_305[0][0]             \n",
      "__________________________________________________________________________________________________\n",
      "activation_308 (Activation)     (None, 1, 1, 1024)   0           add_94[0][0]                     \n",
      "__________________________________________________________________________________________________\n",
      "flatten_6 (Flatten)             (None, 1024)         0           activation_308[0][0]             \n",
      "__________________________________________________________________________________________________\n",
      "Dense_1st (Dense)               (None, 512)          524800      flatten_6[0][0]                  \n",
      "__________________________________________________________________________________________________\n",
      "Dense_2nd (Dense)               (None, 128)          65664       Dense_1st[0][0]                  \n",
      "__________________________________________________________________________________________________\n",
      "Dense_Final (Dense)             (None, 7)            903         Dense_2nd[0][0]                  \n",
      "==================================================================================================\n",
      "Total params: 5,526,535\n",
      "Trainable params: 5,506,695\n",
      "Non-trainable params: 19,840\n",
      "__________________________________________________________________________________________________\n"
     ]
    }
   ],
   "source": [
    "input_shape = (48,48,1)\n",
    "\n",
    "X_input= Input(input_shape)\n",
    "\n",
    "X =ZeroPadding2D((3,3))(X_input)\n",
    "#1 Stage\n",
    "X = Conv2D(64,(7,7),strides=(2,2),name=\"conv1\")(X)\n",
    "X= BatchNormalization(axis=3,name=\"bn_conv1\")(X)\n",
    "X = Activation('relu')(X)\n",
    "X= MaxPool2D((3,3),strides=(2,2))(X)\n",
    "\n",
    "# 2 - stage\n",
    "X = res_block(X, filter= [64, 64, 256], stage= 2)\n",
    "\n",
    "# 3 - stage\n",
    "X = res_block(X, filter= [128, 128, 512], stage= 3)\n",
    "\n",
    "\n",
    "# 4 - stage\n",
    "X = res_block(X, filter= [256, 256, 1024], stage= 4)\n",
    "\n",
    "X = Flatten()(X)\n",
    "X = Dense(512, activation = 'relu', name = 'Dense_1st')(X)\n",
    "X= Dense(128, activation='relu', name=\"Dense_2nd\")(X)\n",
    "X= Dense(7,activation=\"softmax\", name=\"Dense_Final\")(X)\n",
    "\n",
    "\n",
    "model_emotion = Model( inputs= X_input, outputs = X, name = 'Resnet18')\n",
    "\n",
    "model_emotion.summary()"
   ]
  },
  {
   "cell_type": "code",
   "execution_count": null,
   "metadata": {
    "colab": {},
    "colab_type": "code",
    "id": "nscPtNNnK43W"
   },
   "outputs": [],
   "source": []
  }
 ],
 "metadata": {
  "colab": {
   "name": "Face_Expression.ipynb",
   "provenance": []
  },
  "kernelspec": {
   "display_name": "Python 3",
   "language": "python",
   "name": "python3"
  },
  "language_info": {
   "codemirror_mode": {
    "name": "ipython",
    "version": 3
   },
   "file_extension": ".py",
   "mimetype": "text/x-python",
   "name": "python",
   "nbconvert_exporter": "python",
   "pygments_lexer": "ipython3",
   "version": "3.7.6"
  }
 },
 "nbformat": 4,
 "nbformat_minor": 1
}
